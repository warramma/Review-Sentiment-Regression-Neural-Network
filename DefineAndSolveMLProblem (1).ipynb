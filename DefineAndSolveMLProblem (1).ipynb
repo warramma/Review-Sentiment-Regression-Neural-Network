{
 "cells": [
  {
   "cell_type": "markdown",
   "metadata": {},
   "source": [
    "# Lab 8: Define and Solve an ML Problem of Your Choosing"
   ]
  },
  {
   "cell_type": "code",
   "execution_count": 1,
   "metadata": {},
   "outputs": [],
   "source": [
    "import pandas as pd\n",
    "import numpy as np\n",
    "import os \n",
    "import matplotlib.pyplot as plt\n",
    "import seaborn as sns"
   ]
  },
  {
   "cell_type": "markdown",
   "metadata": {},
   "source": [
    "In this lab assignment, you will follow the machine learning life cycle and implement a model to solve a machine learning problem of your choosing. You will select a data set and choose a predictive problem that the data set supports.  You will then inspect the data with your problem in mind and begin to formulate a  project plan. You will then implement the machine learning project plan. \n",
    "\n",
    "You will complete the following tasks:\n",
    "\n",
    "1. Build Your DataFrame\n",
    "2. Define Your ML Problem\n",
    "3. Perform exploratory data analysis to understand your data.\n",
    "4. Define Your Project Plan\n",
    "5. Implement Your Project Plan:\n",
    "    * Prepare your data for your model.\n",
    "    * Fit your model to the training data and evaluate your model.\n",
    "    * Improve your model's performance."
   ]
  },
  {
   "cell_type": "markdown",
   "metadata": {},
   "source": [
    "## Part 1: Build Your DataFrame\n",
    "\n",
    "You will have the option to choose one of four data sets that you have worked with in this program:\n",
    "\n",
    "* The \"census\" data set that contains Census information from 1994: `censusData.csv`\n",
    "* Airbnb NYC \"listings\" data set: `airbnbListingsData.csv`\n",
    "* World Happiness Report (WHR) data set: `WHR2018Chapter2OnlineData.csv`\n",
    "* Book Review data set: `bookReviewsData.csv`\n",
    "\n",
    "Note that these are variations of the data sets that you have worked with in this program. For example, some do not include some of the preprocessing necessary for specific models. \n",
    "\n",
    "#### Load a Data Set and Save it as a Pandas DataFrame\n",
    "\n",
    "The code cell below contains filenames (path + filename) for each of the four data sets available to you.\n",
    "\n",
    "<b>Task:</b> In the code cell below, use the same method you have been using to load the data using `pd.read_csv()` and save it to DataFrame `df`. \n",
    "\n",
    "You can load each file as a new DataFrame to inspect the data before choosing your data set."
   ]
  },
  {
   "cell_type": "code",
   "execution_count": 2,
   "metadata": {},
   "outputs": [
    {
     "data": {
      "text/html": [
       "<div>\n",
       "<style scoped>\n",
       "    .dataframe tbody tr th:only-of-type {\n",
       "        vertical-align: middle;\n",
       "    }\n",
       "\n",
       "    .dataframe tbody tr th {\n",
       "        vertical-align: top;\n",
       "    }\n",
       "\n",
       "    .dataframe thead th {\n",
       "        text-align: right;\n",
       "    }\n",
       "</style>\n",
       "<table border=\"1\" class=\"dataframe\">\n",
       "  <thead>\n",
       "    <tr style=\"text-align: right;\">\n",
       "      <th></th>\n",
       "      <th>Review</th>\n",
       "      <th>Positive Review</th>\n",
       "    </tr>\n",
       "  </thead>\n",
       "  <tbody>\n",
       "    <tr>\n",
       "      <th>0</th>\n",
       "      <td>This was perhaps the best of Johannes Steinhof...</td>\n",
       "      <td>True</td>\n",
       "    </tr>\n",
       "    <tr>\n",
       "      <th>1</th>\n",
       "      <td>This very fascinating book is a story written ...</td>\n",
       "      <td>True</td>\n",
       "    </tr>\n",
       "    <tr>\n",
       "      <th>2</th>\n",
       "      <td>The four tales in this collection are beautifu...</td>\n",
       "      <td>True</td>\n",
       "    </tr>\n",
       "    <tr>\n",
       "      <th>3</th>\n",
       "      <td>The book contained more profanity than I expec...</td>\n",
       "      <td>False</td>\n",
       "    </tr>\n",
       "    <tr>\n",
       "      <th>4</th>\n",
       "      <td>We have now entered a second time of deep conc...</td>\n",
       "      <td>True</td>\n",
       "    </tr>\n",
       "  </tbody>\n",
       "</table>\n",
       "</div>"
      ],
      "text/plain": [
       "                                              Review  Positive Review\n",
       "0  This was perhaps the best of Johannes Steinhof...             True\n",
       "1  This very fascinating book is a story written ...             True\n",
       "2  The four tales in this collection are beautifu...             True\n",
       "3  The book contained more profanity than I expec...            False\n",
       "4  We have now entered a second time of deep conc...             True"
      ]
     },
     "execution_count": 2,
     "metadata": {},
     "output_type": "execute_result"
    }
   ],
   "source": [
    "# File names of the four data sets\n",
    "adultDataSet_filename = os.path.join(os.getcwd(), \"data\", \"censusData.csv\")\n",
    "airbnbDataSet_filename = os.path.join(os.getcwd(), \"data\", \"airbnbListingsData.csv\")\n",
    "WHRDataSet_filename = os.path.join(os.getcwd(), \"data\", \"WHR2018Chapter2OnlineData.csv\")\n",
    "bookReviewDataSet_filename = os.path.join(os.getcwd(), \"data\", \"bookReviewsData.csv\")\n",
    "\n",
    "\n",
    "df = pd.read_csv(bookReviewDataSet_filename)\n",
    "\n",
    "df.head()"
   ]
  },
  {
   "cell_type": "markdown",
   "metadata": {},
   "source": [
    "## Part 2: Define Your ML Problem\n",
    "\n",
    "Next you will formulate your ML Problem. In the markdown cell below, answer the following questions:\n",
    "\n",
    "1. List the data set you have chosen.\n",
    "2. What will you be predicting? What is the label?\n",
    "3. Is this a supervised or unsupervised learning problem? Is this a clustering, classification or regression problem? Is it a binary classificaiton or multi-class classifiction problem?\n",
    "4. What are your features? (note: this list may change after your explore your data)\n",
    "5. Explain why this is an important problem. In other words, how would a company create value with a model that predicts this label?"
   ]
  },
  {
   "cell_type": "markdown",
   "metadata": {},
   "source": [
    "I chose the book review data set and will be predicting if something is a positive review or not. \n",
    "\n",
    "This would be a supervised problem and binary classification since a review is either positive or not. The feature in this case is the review and the label is \"Positive Review\"\n",
    "\n",
    "Some real world applications of this problem are\n",
    "* getting a quick overview of what people think about a book\n",
    "* quickly identifying strong reviews to improve marketing of a book"
   ]
  },
  {
   "cell_type": "markdown",
   "metadata": {},
   "source": [
    "## Part 3: Understand Your Data\n",
    "\n",
    "The next step is to perform exploratory data analysis. Inspect and analyze your data set with your machine learning problem in mind. Consider the following as you inspect your data:\n",
    "\n",
    "1. What data preparation techniques would you like to use? These data preparation techniques may include:\n",
    "\n",
    "    * addressing missingness, such as replacing missing values with means\n",
    "    * finding and replacing outliers\n",
    "    * renaming features and labels\n",
    "    * finding and replacing outliers\n",
    "    * performing feature engineering techniques such as one-hot encoding on categorical features\n",
    "    * selecting appropriate features and removing irrelevant features\n",
    "    * performing specific data cleaning and preprocessing techniques for an NLP problem\n",
    "    * addressing class imbalance in your data sample to promote fair AI\n",
    "    \n",
    "<b>Notes</b>:\n",
    "* yes check for missing values, outliers, etc.\n",
    "* only one feature and the columns names are fine, all columns are relevant. \n",
    "* for NLP, would need to process the words by removing stop words and doing some lemmatization. \n",
    "\n",
    "2. What machine learning model (or models) you would like to use that is suitable for your predictive problem and data?\n",
    "    * Are there other data preparation techniques that you will need to apply to build a balanced modeling data set for your problem and model? For example, will you need to scale your data?\n",
    " \n",
    "<b>Notes</b>\n",
    "I think <b>Neural network</b> and <b>Logistic Regression</b> would be good choices. \n",
    "For both I would need to vectorize the words since they take numerical input. \n",
    "No scaling needed. \n",
    " \n",
    "3. How will you evaluate and improve the model's performance?\n",
    "    * Are there specific evaluation metrics and methods that are appropriate for your model?\n",
    "    \n",
    "<b>Notes</b>\n",
    "For both, accuracy is important. \n",
    "For neural networks, changing units, epochs, and dropout layers will help optimize it. \n",
    "For logistic regression I would check the area under the curve (AUC) and maybe optimize the C hyperparameter.\n",
    "    \n",
    "\n",
    "Think of the different techniques you have used to inspect and analyze your data in this course. These include using Pandas to apply data filters, using the Pandas `describe()` method to get insight into key statistics for each column, using the Pandas `dtypes` property to inspect the data type of each column, and using Matplotlib and Seaborn to detect outliers and visualize relationships between features and labels. If you are working on a classification problem, use techniques you have learned to determine if there is class imbalance.\n",
    "\n",
    "<b>Task</b>: Use the techniques you have learned in this course to inspect and analyze your data. You can import additional packages that you have used in this course that you will need to perform this task.\n",
    "\n",
    "<b>Note</b>: You can add code cells if needed by going to the <b>Insert</b> menu and clicking on <b>Insert Cell Below</b> in the drop-drown menu."
   ]
  },
  {
   "cell_type": "code",
   "execution_count": 3,
   "metadata": {},
   "outputs": [
    {
     "data": {
      "text/html": [
       "<div>\n",
       "<style scoped>\n",
       "    .dataframe tbody tr th:only-of-type {\n",
       "        vertical-align: middle;\n",
       "    }\n",
       "\n",
       "    .dataframe tbody tr th {\n",
       "        vertical-align: top;\n",
       "    }\n",
       "\n",
       "    .dataframe thead th {\n",
       "        text-align: right;\n",
       "    }\n",
       "</style>\n",
       "<table border=\"1\" class=\"dataframe\">\n",
       "  <thead>\n",
       "    <tr style=\"text-align: right;\">\n",
       "      <th></th>\n",
       "      <th>Review</th>\n",
       "      <th>Positive Review</th>\n",
       "    </tr>\n",
       "  </thead>\n",
       "  <tbody>\n",
       "    <tr>\n",
       "      <th>count</th>\n",
       "      <td>1973</td>\n",
       "      <td>1973</td>\n",
       "    </tr>\n",
       "    <tr>\n",
       "      <th>unique</th>\n",
       "      <td>1865</td>\n",
       "      <td>2</td>\n",
       "    </tr>\n",
       "    <tr>\n",
       "      <th>top</th>\n",
       "      <td>How can a best-selling author like Simon Winch...</td>\n",
       "      <td>False</td>\n",
       "    </tr>\n",
       "    <tr>\n",
       "      <th>freq</th>\n",
       "      <td>3</td>\n",
       "      <td>993</td>\n",
       "    </tr>\n",
       "  </tbody>\n",
       "</table>\n",
       "</div>"
      ],
      "text/plain": [
       "                                                   Review Positive Review\n",
       "count                                                1973            1973\n",
       "unique                                               1865               2\n",
       "top     How can a best-selling author like Simon Winch...           False\n",
       "freq                                                    3             993"
      ]
     },
     "execution_count": 3,
     "metadata": {},
     "output_type": "execute_result"
    }
   ],
   "source": [
    "# YOUR CODE HERE\n",
    "df.describe()\n",
    "\n",
    "# total 1973 reviews but only 1865 unique ones!"
   ]
  },
  {
   "cell_type": "code",
   "execution_count": 4,
   "metadata": {},
   "outputs": [
    {
     "name": "stdout",
     "output_type": "stream",
     "text": [
      "<class 'pandas.core.frame.DataFrame'>\n",
      "RangeIndex: 1973 entries, 0 to 1972\n",
      "Data columns (total 2 columns):\n",
      " #   Column           Non-Null Count  Dtype \n",
      "---  ------           --------------  ----- \n",
      " 0   Review           1973 non-null   object\n",
      " 1   Positive Review  1973 non-null   bool  \n",
      "dtypes: bool(1), object(1)\n",
      "memory usage: 17.5+ KB\n"
     ]
    }
   ],
   "source": [
    "df.info() #types look fine"
   ]
  },
  {
   "cell_type": "code",
   "execution_count": 5,
   "metadata": {},
   "outputs": [
    {
     "data": {
      "text/plain": [
       "Review             0\n",
       "Positive Review    0\n",
       "dtype: int64"
      ]
     },
     "execution_count": 5,
     "metadata": {},
     "output_type": "execute_result"
    }
   ],
   "source": [
    "df.isna().sum() #no missing values 🙂"
   ]
  },
  {
   "cell_type": "code",
   "execution_count": 6,
   "metadata": {},
   "outputs": [
    {
     "name": "stdout",
     "output_type": "stream",
     "text": [
      "1865\n",
      "(1973, 2)\n"
     ]
    }
   ],
   "source": [
    "#double checking the duplicates and uniqueness\n",
    "print(len(df['Review'].unique()))\n",
    "print(df.shape)"
   ]
  },
  {
   "cell_type": "code",
   "execution_count": 7,
   "metadata": {},
   "outputs": [
    {
     "name": "stdout",
     "output_type": "stream",
     "text": [
      "108\n",
      "                                                 Review  Positive Review\n",
      "144   I am a Jew living in a college town in Mississ...            False\n",
      "149   I have enjoyed many of Mark's novels (Do You K...            False\n",
      "309   Dr. Hawkins first book, Power vs Force was int...            False\n",
      "399   I picked this up because it's considered a cla...            False\n",
      "405   I am so sorry that I bought this book.  It is ...            False\n",
      "...                                                 ...              ...\n",
      "1922  Don't get me wrong, I really enjoy Neal Stephe...            False\n",
      "1935  I thought this book would be great and was rea...            False\n",
      "1946  ...if you're in the bathroom with time on your...            False\n",
      "1962  Ripping off King, but with more sex, shallower...            False\n",
      "1963  This book expounds endlessly on how best to li...            False\n",
      "\n",
      "[108 rows x 2 columns]\n"
     ]
    }
   ],
   "source": [
    "print(df['Review'].duplicated().sum())\n",
    "print(df[df['Review'].duplicated()])"
   ]
  },
  {
   "cell_type": "code",
   "execution_count": 8,
   "metadata": {},
   "outputs": [
    {
     "data": {
      "text/plain": [
       "(1865, 2)"
      ]
     },
     "execution_count": 8,
     "metadata": {},
     "output_type": "execute_result"
    }
   ],
   "source": [
    "#drop the duplicates\n",
    "df = df.drop_duplicates()\n",
    "df.shape"
   ]
  },
  {
   "cell_type": "code",
   "execution_count": 9,
   "metadata": {},
   "outputs": [
    {
     "data": {
      "image/png": "[encoded data removed]",
      "text/plain": [
       "<Figure size 504x360 with 1 Axes>"
      ]
     },
     "metadata": {
      "needs_background": "light"
     },
     "output_type": "display_data"
    }
   ],
   "source": [
    "#checking for class imbalance\n",
    "plt.figure(figsize=(7,5))\n",
    "sns.countplot(x=\"Positive Review\", data = df)\n",
    "plt.title(\"Distribution of positive vs negative\")\n",
    "plt.xlabel(\"Review sentiment\")\n",
    "plt.ylabel(\"Number of reviews\")\n",
    "plt.show()"
   ]
  },
  {
   "cell_type": "markdown",
   "metadata": {},
   "source": [
    "⬆️⬆️ fairly balanced distribution between positive and negative reviews. \n",
    "\n",
    "### preprocessing the review text\n",
    "\n",
    "using [transforming text into word embeddings](https://lms.ecornell.com/courses/1852082/pages/code-transforming-text-using-word-embeddings?module_item_id=33560658)"
   ]
  },
  {
   "cell_type": "code",
   "execution_count": 10,
   "metadata": {},
   "outputs": [],
   "source": [
    "import gensim"
   ]
  },
  {
   "cell_type": "code",
   "execution_count": 11,
   "metadata": {},
   "outputs": [],
   "source": [
    "original_reviews = df['Review']\n",
    "df['Review'] = df['Review'].apply(lambda row: gensim.utils.simple_preprocess(row))"
   ]
  },
  {
   "cell_type": "code",
   "execution_count": 12,
   "metadata": {},
   "outputs": [
    {
     "data": {
      "text/plain": [
       "0       [this, was, perhaps, the, best, of, johannes, ...\n",
       "1       [this, very, fascinating, book, is, story, wri...\n",
       "2       [the, four, tales, in, this, collection, are, ...\n",
       "3       [the, book, contained, more, profanity, than, ...\n",
       "4       [we, have, now, entered, second, time, of, dee...\n",
       "                              ...                        \n",
       "1968    [purchased, the, book, with, the, intention, o...\n",
       "1969    [there, are, so, many, design, books, but, the...\n",
       "1970    [am, thilled, to, see, this, book, being, avai...\n",
       "1971    [as, many, have, stated, before, me, the, book...\n",
       "1972    [love, this, book, it, is, terrific, blend, of...\n",
       "Name: Review, Length: 1865, dtype: object"
      ]
     },
     "execution_count": 12,
     "metadata": {},
     "output_type": "execute_result"
    }
   ],
   "source": [
    "df['Review']"
   ]
  },
  {
   "cell_type": "markdown",
   "metadata": {},
   "source": [
    "## Part 4: Define Your Project Plan\n",
    "\n",
    "Now that you understand your data, in the markdown cell below, define your plan to implement the remaining phases of the machine learning life cycle (data preparation, modeling, evaluation) to solve your ML problem. Answer the following questions:\n",
    "\n",
    "* Do you have a new feature list? If so, what are the features that you chose to keep and remove after inspecting the data? \n",
    "* Explain different data preparation techniques that you will use to prepare your data for modeling.\n",
    "* What is your model (or models)?\n",
    "* Describe your plan to train your model, analyze its performance and then improve the model. That is, describe your model building, validation and selection plan to produce a model that generalizes well to new data. "
   ]
  },
  {
   "cell_type": "markdown",
   "metadata": {},
   "source": [
    "<b>Answer</b>\n",
    "I only had one feature 'Review', however now it's cleaned and also preprocessed with gensim.\n",
    "\n",
    "To prepare the data for modeling I will use the tf-idf vectorizer to convert the text into numerical input. \n",
    "\n",
    "My models for this are:\n",
    "* Neural network - I will construct the model, create the optimizer and loss function, and compile the model. To improve it I will test different epochs and combinations of dropout layers, as well different units. \n",
    "* logistic regression - I will train the model on the training vector and then find the accuracy and area under the curve (AUC). "
   ]
  },
  {
   "cell_type": "markdown",
   "metadata": {},
   "source": [
    "## Part 5: Implement Your Project Plan\n",
    "\n",
    "<b>Task:</b> In the code cell below, import additional packages that you have used in this course that you will need to implement your project plan."
   ]
  },
  {
   "cell_type": "code",
   "execution_count": 13,
   "metadata": {},
   "outputs": [],
   "source": [
    "# YOUR CODE HERE\n",
    "from sklearn.feature_extraction.text import TfidfVectorizer\n",
    "from sklearn.model_selection import train_test_split\n",
    "import tensorflow.keras as keras\n",
    "import time\n",
    "from sklearn.model_selection import train_test_split\n",
    "from sklearn.linear_model import LogisticRegression\n",
    "from sklearn.metrics import roc_auc_score\n",
    "from sklearn.metrics import log_loss\n",
    "from sklearn.metrics import accuracy_score"
   ]
  },
  {
   "cell_type": "markdown",
   "metadata": {},
   "source": [
    "<b>Task:</b> Use the rest of this notebook to carry out your project plan. \n",
    "\n",
    "You will:\n",
    "\n",
    "1. Prepare your data for your model.\n",
    "2. Fit your model to the training data and evaluate your model.\n",
    "3. Improve your model's performance by performing model selection and/or feature selection techniques to find best model for your problem.\n",
    "\n",
    "Add code cells below and populate the notebook with commentary, code, analyses, results, and figures as you see fit. "
   ]
  },
  {
   "cell_type": "markdown",
   "metadata": {},
   "source": [
    "### TF-IDF vectorizer & creating test vs train data"
   ]
  },
  {
   "cell_type": "code",
   "execution_count": 14,
   "metadata": {},
   "outputs": [],
   "source": [
    "#join the list of words into strings for tf-idf, \n",
    "#i guess it doesn't take lists\n",
    "\n",
    "df['Review'] = df['Review'].apply(lambda tokens:' '.join(tokens))"
   ]
  },
  {
   "cell_type": "code",
   "execution_count": 15,
   "metadata": {},
   "outputs": [],
   "source": [
    "# YOUR CODE HERE\n",
    "y = df['Positive Review']\n",
    "X = df.drop(columns='Positive Review')"
   ]
  },
  {
   "cell_type": "code",
   "execution_count": 16,
   "metadata": {},
   "outputs": [],
   "source": [
    "X_train, X_test, y_train, y_test = train_test_split(X,y, test_size = 0.25, random_state=1234)"
   ]
  },
  {
   "cell_type": "code",
   "execution_count": 17,
   "metadata": {},
   "outputs": [],
   "source": [
    "# from assignment 8\n",
    "tfidf_vectorizer=TfidfVectorizer()\n",
    "\n",
    "tfidf_vectorizer.fit(X_train['Review'])\n",
    "\n",
    "X_train_tfidf = tfidf_vectorizer.transform(X_train['Review'])\n",
    "\n",
    "X_test_tfidf = tfidf_vectorizer.transform(X_test['Review'])"
   ]
  },
  {
   "cell_type": "code",
   "execution_count": 18,
   "metadata": {},
   "outputs": [
    {
     "data": {
      "text/html": [
       "<div>\n",
       "<style scoped>\n",
       "    .dataframe tbody tr th:only-of-type {\n",
       "        vertical-align: middle;\n",
       "    }\n",
       "\n",
       "    .dataframe tbody tr th {\n",
       "        vertical-align: top;\n",
       "    }\n",
       "\n",
       "    .dataframe thead th {\n",
       "        text-align: right;\n",
       "    }\n",
       "</style>\n",
       "<table border=\"1\" class=\"dataframe\">\n",
       "  <thead>\n",
       "    <tr style=\"text-align: right;\">\n",
       "      <th></th>\n",
       "      <th>Review</th>\n",
       "    </tr>\n",
       "  </thead>\n",
       "  <tbody>\n",
       "    <tr>\n",
       "      <th>0</th>\n",
       "      <td>this was perhaps the best of johannes steinhof...</td>\n",
       "    </tr>\n",
       "    <tr>\n",
       "      <th>1</th>\n",
       "      <td>this very fascinating book is story written in...</td>\n",
       "    </tr>\n",
       "    <tr>\n",
       "      <th>2</th>\n",
       "      <td>the four tales in this collection are beautifu...</td>\n",
       "    </tr>\n",
       "    <tr>\n",
       "      <th>3</th>\n",
       "      <td>the book contained more profanity than expecte...</td>\n",
       "    </tr>\n",
       "    <tr>\n",
       "      <th>4</th>\n",
       "      <td>we have now entered second time of deep concer...</td>\n",
       "    </tr>\n",
       "    <tr>\n",
       "      <th>...</th>\n",
       "      <td>...</td>\n",
       "    </tr>\n",
       "    <tr>\n",
       "      <th>1968</th>\n",
       "      <td>purchased the book with the intention of teach...</td>\n",
       "    </tr>\n",
       "    <tr>\n",
       "      <th>1969</th>\n",
       "      <td>there are so many design books but the graphis...</td>\n",
       "    </tr>\n",
       "    <tr>\n",
       "      <th>1970</th>\n",
       "      <td>am thilled to see this book being available in...</td>\n",
       "    </tr>\n",
       "    <tr>\n",
       "      <th>1971</th>\n",
       "      <td>as many have stated before me the book starts ...</td>\n",
       "    </tr>\n",
       "    <tr>\n",
       "      <th>1972</th>\n",
       "      <td>love this book it is terrific blend of hand ho...</td>\n",
       "    </tr>\n",
       "  </tbody>\n",
       "</table>\n",
       "<p>1865 rows × 1 columns</p>\n",
       "</div>"
      ],
      "text/plain": [
       "                                                 Review\n",
       "0     this was perhaps the best of johannes steinhof...\n",
       "1     this very fascinating book is story written in...\n",
       "2     the four tales in this collection are beautifu...\n",
       "3     the book contained more profanity than expecte...\n",
       "4     we have now entered second time of deep concer...\n",
       "...                                                 ...\n",
       "1968  purchased the book with the intention of teach...\n",
       "1969  there are so many design books but the graphis...\n",
       "1970  am thilled to see this book being available in...\n",
       "1971  as many have stated before me the book starts ...\n",
       "1972  love this book it is terrific blend of hand ho...\n",
       "\n",
       "[1865 rows x 1 columns]"
      ]
     },
     "execution_count": 18,
     "metadata": {},
     "output_type": "execute_result"
    }
   ],
   "source": [
    "X"
   ]
  },
  {
   "cell_type": "markdown",
   "metadata": {},
   "source": [
    "### Logistic Regression model"
   ]
  },
  {
   "cell_type": "code",
   "execution_count": 19,
   "metadata": {},
   "outputs": [
    {
     "name": "stdout",
     "output_type": "stream",
     "text": [
      "AUC 0.8899728101116989\n",
      "accuracy 0.8115631691648822\n"
     ]
    }
   ],
   "source": [
    "logistic_model = LogisticRegression(max_iter=100, C=100)\n",
    "logistic_model.fit(X_train_tfidf, y_train)\n",
    "\n",
    "probability_predictions = logistic_model.predict_proba(X_test_tfidf)[:,1]\n",
    "class_label_predictions = logistic_model.predict(X_test_tfidf)\n",
    "\n",
    "auc = roc_auc_score(y_test, probability_predictions)\n",
    "logmodel_accuracy = accuracy_score(y_test, class_label_predictions)\n",
    "print('AUC', auc)\n",
    "print('accuracy', logmodel_accuracy)\n",
    "                                        "
   ]
  },
  {
   "cell_type": "code",
   "execution_count": 20,
   "metadata": {},
   "outputs": [
    {
     "name": "stdout",
     "output_type": "stream",
     "text": [
      "while this book is good attempt at placing statistical topics necessary to toxicology in one spot the mistakes are inexcusable many formula are incorrect as well as text referring to the wrong tables or data therefore one begins to lose trust in the information presented be careful if you use this book\n",
      "Prediction: positive? True\n",
      "Actual: positive? False\n"
     ]
    }
   ],
   "source": [
    "#checking a prediction against an actual one to see\n",
    "print(original_reviews[21])\n",
    "print('Prediction: positive?', class_label_predictions[21])\n",
    "print('Actual: positive?', y_test.to_numpy()[21])"
   ]
  },
  {
   "cell_type": "code",
   "execution_count": 21,
   "metadata": {},
   "outputs": [
    {
     "name": "stdout",
     "output_type": "stream",
     "text": [
      "temperance brennan is an american forensic anthropologist the author is anthropologist in real life and feel she gave to much detail as to body parts conditions locations in the book and in about the rd chapter to much time and space is wasted talking about gabby including in detail where gabby lives and details that surround the outside of gabbys place how gabby and tempe were friends from grad to man parts in life book was not for me dropped it at the rd chapter\n",
      "Prediction: positive? False\n",
      "Actual: positive? False\n"
     ]
    }
   ],
   "source": [
    "print(original_reviews[12])\n",
    "print('Prediction: positive?', class_label_predictions[12])\n",
    "print('Actual: positive?', y_test.to_numpy()[12])"
   ]
  },
  {
   "cell_type": "markdown",
   "metadata": {},
   "source": [
    "#### optimizing logistic regression\n",
    "using [unit 4 assignment](https://lms.ecornell.com/courses/1852082/assignments/13484699?module_item_id=33560384)\n",
    "\n",
    "for the logistic regression, using a C value of 100 increased the AUC and accuracy\n",
    "\n",
    "<b>max_iter = 100, C=100</b>\n",
    "\n",
    "AUC 0.8899728101116989\n",
    "accuracy 0.8115631691648822"
   ]
  },
  {
   "cell_type": "markdown",
   "metadata": {},
   "source": [
    "### neural network"
   ]
  },
  {
   "cell_type": "code",
   "execution_count": 22,
   "metadata": {},
   "outputs": [
    {
     "name": "stdout",
     "output_type": "stream",
     "text": [
      "18082\n"
     ]
    }
   ],
   "source": [
    "vocabulary_size = len(tfidf_vectorizer.vocabulary_)\n",
    "\n",
    "print(vocabulary_size)"
   ]
  },
  {
   "cell_type": "code",
   "execution_count": 23,
   "metadata": {},
   "outputs": [
    {
     "name": "stdout",
     "output_type": "stream",
     "text": [
      "Model: \"sequential\"\n",
      "_________________________________________________________________\n",
      "Layer (type)                 Output Shape              Param #   \n",
      "=================================================================\n",
      "dense (Dense)                (None, 64)                1157312   \n",
      "_________________________________________________________________\n",
      "dropout (Dropout)            (None, 64)                0         \n",
      "_________________________________________________________________\n",
      "dense_1 (Dense)              (None, 32)                2080      \n",
      "_________________________________________________________________\n",
      "dropout_1 (Dropout)          (None, 32)                0         \n",
      "_________________________________________________________________\n",
      "dense_2 (Dense)              (None, 16)                528       \n",
      "_________________________________________________________________\n",
      "dense_3 (Dense)              (None, 1)                 17        \n",
      "=================================================================\n",
      "Total params: 1,159,937\n",
      "Trainable params: 1,159,937\n",
      "Non-trainable params: 0\n",
      "_________________________________________________________________\n"
     ]
    }
   ],
   "source": [
    "nn_model = keras.Sequential()\n",
    "\n",
    "input_layer = keras.layers.InputLayer(input_shape = (vocabulary_size,))\n",
    "nn_model.add(input_layer)\n",
    "\n",
    "#adding three hidden layers\n",
    "hidden1 = keras.layers.Dense(units = 64, activation = 'relu')\n",
    "nn_model.add(hidden1)\n",
    "nn_model.add(keras.layers.Dropout(0.5))\n",
    "\n",
    "hidden2 = keras.layers.Dense(units = 32, activation = 'relu')\n",
    "nn_model.add(hidden2)\n",
    "nn_model.add(keras.layers.Dropout(0.5))\n",
    "\n",
    "hidden3 = keras.layers.Dense(units = 16, activation = 'relu')\n",
    "nn_model.add(hidden3)\n",
    "\n",
    "output_layer = keras.layers.Dense(units = 1, activation ='sigmoid')\n",
    "nn_model.add(output_layer)\n",
    "\n",
    "nn_model.summary()"
   ]
  },
  {
   "cell_type": "code",
   "execution_count": 24,
   "metadata": {},
   "outputs": [],
   "source": [
    "#optimizer\n",
    "sgd_optimizer = keras.optimizers.SGD(learning_rate = 0.1)"
   ]
  },
  {
   "cell_type": "code",
   "execution_count": 25,
   "metadata": {},
   "outputs": [],
   "source": [
    "#loss function\n",
    "loss_fn = keras.losses.BinaryCrossentropy(from_logits = False)"
   ]
  },
  {
   "cell_type": "code",
   "execution_count": 26,
   "metadata": {},
   "outputs": [],
   "source": [
    "nn_model.compile(optimizer = sgd_optimizer, loss = loss_fn, metrics = ['accuracy'])"
   ]
  },
  {
   "cell_type": "code",
   "execution_count": 27,
   "metadata": {},
   "outputs": [],
   "source": [
    "class ProgBarLoggerNEpochs(keras.callbacks.Callback):\n",
    "    \n",
    "    def __init__(self, num_epochs: int, every_n: int = 50):\n",
    "        self.num_epochs = num_epochs\n",
    "        self.every_n = every_n\n",
    "    \n",
    "    def on_epoch_end(self, epoch, logs=None):\n",
    "        if (epoch + 1) % self.every_n == 0:\n",
    "            s = 'Epoch [{}/ {}]'.format(epoch + 1, self.num_epochs)\n",
    "            logs_s = ['{}: {:.4f}'.format(k.capitalize(), v)\n",
    "                      for k, v in logs.items()]\n",
    "            s_list = [s] + logs_s\n",
    "            print(', '.join(s_list))\n"
   ]
  },
  {
   "cell_type": "code",
   "execution_count": 28,
   "metadata": {},
   "outputs": [
    {
     "name": "stdout",
     "output_type": "stream",
     "text": [
      "Epoch [5/ 25], Loss: 0.6915, Accuracy: 0.5313, Val_loss: 0.6928, Val_accuracy: 0.5071\n",
      "Epoch [10/ 25], Loss: 0.6888, Accuracy: 0.5340, Val_loss: 0.6924, Val_accuracy: 0.5071\n",
      "Epoch [15/ 25], Loss: 0.6822, Accuracy: 0.5555, Val_loss: 0.6871, Val_accuracy: 0.5071\n",
      "Epoch [20/ 25], Loss: 0.6514, Accuracy: 0.6404, Val_loss: 0.6635, Val_accuracy: 0.6429\n",
      "Epoch [25/ 25], Loss: 0.5329, Accuracy: 0.7415, Val_loss: 0.5531, Val_accuracy: 0.7571\n",
      "Elapsed time: 6.62s\n"
     ]
    }
   ],
   "source": [
    "t0 = time.time() # start time\n",
    "\n",
    "num_epochs = 25 # epochs\n",
    "\n",
    "history = nn_model.fit(X_train_tfidf.toarray(), y_train, epochs = num_epochs, verbose = 0, validation_split = 0.2, callbacks=[ProgBarLoggerNEpochs(num_epochs, every_n=5)])\n",
    "\n",
    "t1 = time.time() # stop time\n",
    "\n",
    "print('Elapsed time: %.2fs' % (t1-t0))"
   ]
  },
  {
   "cell_type": "code",
   "execution_count": 29,
   "metadata": {},
   "outputs": [
    {
     "data": {
      "image/png": "[encoded data removed]",
      "text/plain": [
       "<Figure size 432x288 with 1 Axes>"
      ]
     },
     "metadata": {
      "needs_background": "light"
     },
     "output_type": "display_data"
    },
    {
     "data": {
      "image/png": "[encoded data removed]",
      "text/plain": [
       "<Figure size 432x288 with 1 Axes>"
      ]
     },
     "metadata": {
      "needs_background": "light"
     },
     "output_type": "display_data"
    }
   ],
   "source": [
    "# Plot training and validation loss\n",
    "plt.plot(range(1, num_epochs + 1), history.history['loss'], label='Training Loss')\n",
    "plt.plot(range(1, num_epochs + 1), history.history['val_loss'], label='Validation Loss')\n",
    "\n",
    "plt.xlabel('Epoch')\n",
    "plt.ylabel('Loss')\n",
    "plt.legend()\n",
    "plt.show()\n",
    "\n",
    "\n",
    "# Plot training and validation accuracy\n",
    "plt.plot(range(1, num_epochs + 1), history.history['accuracy'], label='Training Accuracy')\n",
    "plt.plot(range(1, num_epochs + 1), history.history['val_accuracy'], label='Validation Accuracy')\n",
    "\n",
    "plt.xlabel('Epoch')\n",
    "plt.ylabel('Accuracy')\n",
    "plt.legend()\n",
    "plt.show()"
   ]
  },
  {
   "cell_type": "markdown",
   "metadata": {},
   "source": [
    "#### optimizing the neural network model\n",
    "\n",
    "<b>55 epochs, no dropout layers</b>\n",
    "\n",
    "Epoch [55/ 55], Loss: 0.0013, Accuracy: 1.0000, Val_loss: 0.6996, Val_accuracy: 0.7429\n",
    "Elapsed time: 14.34s\n",
    "\n",
    "<b>30 epochs, no dropout layers</b>\n",
    "\n",
    "Epoch [30/ 30], Loss: 0.0909, Accuracy: 0.9848, Val_loss: 0.5370, Val_accuracy: 0.7643\n",
    "\n",
    "<b>30 epochs, adding dropout layer (0.5) after hidden layer 2</b>\n",
    "Epoch [30/ 30], Loss: 0.2097, Accuracy: 0.9374, Val_loss: 0.5822, Val_accuracy: 0.7607\n",
    "\n",
    "<b>30 epochs, two dropout layers (0.5), after hidden layer 1 and 2</b>\n",
    "\n",
    "Epoch [30/ 30], Loss: 0.3706, Accuracy: 0.8515, Val_loss: 0.5142, Val_accuracy: 0.7536\n",
    "\n",
    "<b>same as last but with 25 epochs</b>\n",
    "\n",
    "Epoch [25/ 25], Loss: 0.4598, Accuracy: 0.7737, Val_loss: 0.5238, Val_accuracy: 0.7214\n",
    "\n",
    "Epoch [25/ 25], Loss: 0.2954, Accuracy: 0.8882, Val_loss: 0.4947, Val_accuracy: 0.7464\n",
    "\n",
    "Epoch [25/ 25], Loss: 0.4770, Accuracy: 0.7674, Val_loss: 0.5073, Val_accuracy: 0.7429\n",
    "\n",
    "** accuracy went down overall but more similar to validation accuracy now"
   ]
  },
  {
   "cell_type": "markdown",
   "metadata": {},
   "source": [
    "#### evaluate neural network"
   ]
  },
  {
   "cell_type": "code",
   "execution_count": 30,
   "metadata": {},
   "outputs": [
    {
     "name": "stdout",
     "output_type": "stream",
     "text": [
      "15/15 [==============================] - 0s 3ms/step - loss: 0.5302 - accuracy: 0.7944\n",
      "Loss:  0.5301570296287537 Accuracy:  0.794432520866394\n"
     ]
    }
   ],
   "source": [
    "loss, nn_accuracy = nn_model.evaluate(X_test_tfidf.toarray(), y_test)\n",
    "\n",
    "print('Loss: ', str(loss) , 'Accuracy: ', str(nn_accuracy))"
   ]
  },
  {
   "cell_type": "code",
   "execution_count": 31,
   "metadata": {
    "scrolled": true
   },
   "outputs": [
    {
     "name": "stdout",
     "output_type": "stream",
     "text": [
      "Predictions for the first 20 examples:\n",
      "prediction probability: [0.6512918] , label: True\n",
      "prediction probability: [0.7730273] , label: True\n",
      "prediction probability: [0.72353494] , label: True\n",
      "prediction probability: [0.5102854] , label: True\n",
      "prediction probability: [0.7703895] , label: True\n",
      "prediction probability: [0.6828146] , label: True\n",
      "prediction probability: [0.53447455] , label: True\n",
      "prediction probability: [0.6568999] , label: True\n",
      "prediction probability: [0.519375] , label: False\n",
      "prediction probability: [0.70153236] , label: True\n",
      "prediction probability: [0.52631867] , label: False\n"
     ]
    }
   ],
   "source": [
    "# Make predictions on the test set\n",
    "probability_predictions = nn_model.predict(X_test_tfidf.toarray())\n",
    "\n",
    "print(\"Predictions for the first 20 examples:\")\n",
    "for i in range(0,20):\n",
    "    if probability_predictions[i] > 0.5:\n",
    "        print(\"prediction probability:\", probability_predictions[i], \", label:\", y_test.to_numpy()[i])\n",
    "        "
   ]
  },
  {
   "cell_type": "markdown",
   "metadata": {},
   "source": [
    "### comparing the two models"
   ]
  },
  {
   "cell_type": "code",
   "execution_count": 32,
   "metadata": {},
   "outputs": [
    {
     "name": "stdout",
     "output_type": "stream",
     "text": [
      "Logistic regression model accuracy:  0.8115631691648822\n",
      "Neural network model accuracy:  0.794432520866394\n"
     ]
    }
   ],
   "source": [
    "#log accuracy\n",
    "print(\"Logistic regression model accuracy: \", logmodel_accuracy)\n",
    "\n",
    "#neural network accuracy\n",
    "print(\"Neural network model accuracy: \", nn_accuracy)"
   ]
  }
 ],
 "metadata": {
  "kernelspec": {
   "display_name": "Python 3",
   "language": "python",
   "name": "python3"
  },
  "language_info": {
   "codemirror_mode": {
    "name": "ipython",
    "version": 3
   },
   "file_extension": ".py",
   "mimetype": "text/x-python",
   "name": "python",
   "nbconvert_exporter": "python",
   "pygments_lexer": "ipython3",
   "version": "3.6.9"
  },
  "toc": {
   "base_numbering": 1,
   "nav_menu": {},
   "number_sections": false,
   "sideBar": true,
   "skip_h1_title": false,
   "title_cell": "Table of Contents",
   "title_sidebar": "Contents",
   "toc_cell": false,
   "toc_position": {},
   "toc_section_display": true,
   "toc_window_display": false
  },
  "varInspector": {
   "cols": {
    "lenName": 16,
    "lenType": 16,
    "lenVar": 40
   },
   "kernels_config": {
    "python": {
     "delete_cmd_postfix": "",
     "delete_cmd_prefix": "del ",
     "library": "var_list.py",
     "varRefreshCmd": "print(var_dic_list())"
    },
    "r": {
     "delete_cmd_postfix": ") ",
     "delete_cmd_prefix": "rm(",
     "library": "var_list.r",
     "varRefreshCmd": "cat(var_dic_list()) "
    }
   },
   "types_to_exclude": [
    "module",
    "function",
    "builtin_function_or_method",
    "instance",
    "_Feature"
   ],
   "window_display": false
  }
 },
 "nbformat": 4,
 "nbformat_minor": 2
}
